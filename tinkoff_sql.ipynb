{
  "nbformat": 4,
  "nbformat_minor": 0,
  "metadata": {
    "colab": {
      "name": "tinkoff_sql.ipynb",
      "provenance": [],
      "collapsed_sections": []
    },
    "kernelspec": {
      "name": "python3",
      "display_name": "Python 3"
    },
    "language_info": {
      "name": "python"
    }
  },
  "cells": [
    {
      "cell_type": "code",
      "execution_count": 1,
      "metadata": {
        "id": "P4EtP420r5R_"
      },
      "outputs": [],
      "source": [
        "import pandas as pd\n",
        "import numpy as np\n"
      ]
    },
    {
      "cell_type": "code",
      "source": [
        "import sqlite3"
      ],
      "metadata": {
        "id": "8xQ5Kgj8sDu1"
      },
      "execution_count": 2,
      "outputs": []
    },
    {
      "cell_type": "code",
      "source": [
        "#обновляю версию sqlite, чтобы включить поддержку оконных функций\n",
        "!gdown --id 1BSHIKQ7rFw5BpTq5nw1UZfjPK_7Mpnbi\n",
        "!mv _sqlite3.cpython-37m-x86_64-linux-gnu.so /usr/lib/python3.7/lib-dynload/\n",
        "import os\n",
        "os.kill(os.getpid(), 9)"
      ],
      "metadata": {
        "colab": {
          "base_uri": "https://localhost:8080/"
        },
        "id": "uEWxYI7nQf0Z",
        "outputId": "a24baeb9-5413-4e28-84c8-40442dee3db4"
      },
      "execution_count": null,
      "outputs": [
        {
          "output_type": "stream",
          "name": "stdout",
          "text": [
            "Downloading...\n",
            "From: https://drive.google.com/uc?id=1BSHIKQ7rFw5BpTq5nw1UZfjPK_7Mpnbi\n",
            "To: /content/_sqlite3.cpython-37m-x86_64-linux-gnu.so\n",
            "100% 6.33M/6.33M [00:00<00:00, 37.3MB/s]\n"
          ]
        }
      ]
    },
    {
      "cell_type": "code",
      "source": [
        "sqlite3.sqlite_version"
      ],
      "metadata": {
        "colab": {
          "base_uri": "https://localhost:8080/",
          "height": 35
        },
        "id": "pmnG_aWXQktf",
        "outputId": "d5cb76fa-0860-4f5b-9269-7ba044a2f7b8"
      },
      "execution_count": 3,
      "outputs": [
        {
          "output_type": "execute_result",
          "data": {
            "application/vnd.google.colaboratory.intrinsic+json": {
              "type": "string"
            },
            "text/plain": [
              "'3.36.0'"
            ]
          },
          "metadata": {},
          "execution_count": 3
        }
      ]
    },
    {
      "cell_type": "code",
      "source": [
        "from google.colab import drive\n",
        "drive.mount('/content/gdrive')"
      ],
      "metadata": {
        "colab": {
          "base_uri": "https://localhost:8080/"
        },
        "id": "HuhD6SEutFOl",
        "outputId": "de1a390e-d8c7-4d75-8525-dd28b138acaf"
      },
      "execution_count": 4,
      "outputs": [
        {
          "output_type": "stream",
          "name": "stdout",
          "text": [
            "Mounted at /content/gdrive\n"
          ]
        }
      ]
    },
    {
      "cell_type": "code",
      "source": [
        "#cоздаю базу данных\n",
        "connect = sqlite3.connect('/content/gdrive/My Drive/database_flights.db')"
      ],
      "metadata": {
        "id": "Qxr6QZhzsJaI"
      },
      "execution_count": 49,
      "outputs": []
    },
    {
      "cell_type": "code",
      "source": [
        "#подключаю локально сгенерированные файлы\n",
        "flights = pd.read_csv('/content/gdrive/My Drive/flights.csv')\n",
        "planes = pd.read_csv('/content/gdrive/My Drive/planes.csv')\n",
        "pilots = pd.read_csv('/content/gdrive/My Drive/pilots.csv')"
      ],
      "metadata": {
        "id": "i5Z7LdAftMwr"
      },
      "execution_count": 7,
      "outputs": []
    },
    {
      "cell_type": "code",
      "source": [
        "#предврарительно сгенерировано 1399 полетов\n",
        "flights.head()"
      ],
      "metadata": {
        "colab": {
          "base_uri": "https://localhost:8080/",
          "height": 206
        },
        "id": "Vfzwx5zAwF3M",
        "outputId": "37b7b65c-d457-4ed3-c889-3f522f495c62"
      },
      "execution_count": 17,
      "outputs": [
        {
          "output_type": "execute_result",
          "data": {
            "text/html": [
              "<div>\n",
              "<style scoped>\n",
              "    .dataframe tbody tr th:only-of-type {\n",
              "        vertical-align: middle;\n",
              "    }\n",
              "\n",
              "    .dataframe tbody tr th {\n",
              "        vertical-align: top;\n",
              "    }\n",
              "\n",
              "    .dataframe thead th {\n",
              "        text-align: right;\n",
              "    }\n",
              "</style>\n",
              "<table border=\"1\" class=\"dataframe\">\n",
              "  <thead>\n",
              "    <tr style=\"text-align: right;\">\n",
              "      <th></th>\n",
              "      <th>flight_id</th>\n",
              "      <th>flight_dt</th>\n",
              "      <th>plane_id</th>\n",
              "      <th>first_pilot_id</th>\n",
              "      <th>second_pilot_id</th>\n",
              "      <th>destination</th>\n",
              "      <th>quantity</th>\n",
              "    </tr>\n",
              "  </thead>\n",
              "  <tbody>\n",
              "    <tr>\n",
              "      <th>0</th>\n",
              "      <td>1</td>\n",
              "      <td>2021-08-31 0:28:48</td>\n",
              "      <td>220</td>\n",
              "      <td>2</td>\n",
              "      <td>111</td>\n",
              "      <td>Грабцево</td>\n",
              "      <td>243</td>\n",
              "    </tr>\n",
              "    <tr>\n",
              "      <th>1</th>\n",
              "      <td>2</td>\n",
              "      <td>2021-06-21 8:49:42</td>\n",
              "      <td>404</td>\n",
              "      <td>109</td>\n",
              "      <td>86</td>\n",
              "      <td>Чертовицкое</td>\n",
              "      <td>237</td>\n",
              "    </tr>\n",
              "    <tr>\n",
              "      <th>2</th>\n",
              "      <td>3</td>\n",
              "      <td>2021-11-17 23:11:43</td>\n",
              "      <td>787</td>\n",
              "      <td>11</td>\n",
              "      <td>114</td>\n",
              "      <td>Брянск</td>\n",
              "      <td>179</td>\n",
              "    </tr>\n",
              "    <tr>\n",
              "      <th>3</th>\n",
              "      <td>4</td>\n",
              "      <td>2021-09-09 16:30:54</td>\n",
              "      <td>727</td>\n",
              "      <td>111</td>\n",
              "      <td>100</td>\n",
              "      <td>Братск</td>\n",
              "      <td>63</td>\n",
              "    </tr>\n",
              "    <tr>\n",
              "      <th>4</th>\n",
              "      <td>5</td>\n",
              "      <td>2021-10-28 13:07:38</td>\n",
              "      <td>18</td>\n",
              "      <td>10</td>\n",
              "      <td>114</td>\n",
              "      <td>Иркутск</td>\n",
              "      <td>44</td>\n",
              "    </tr>\n",
              "  </tbody>\n",
              "</table>\n",
              "</div>"
            ],
            "text/plain": [
              "   flight_id            flight_dt  ...  destination  quantity\n",
              "0          1   2021-08-31 0:28:48  ...     Грабцево       243\n",
              "1          2   2021-06-21 8:49:42  ...  Чертовицкое       237\n",
              "2          3  2021-11-17 23:11:43  ...       Брянск       179\n",
              "3          4  2021-09-09 16:30:54  ...       Братск        63\n",
              "4          5  2021-10-28 13:07:38  ...      Иркутск        44\n",
              "\n",
              "[5 rows x 7 columns]"
            ]
          },
          "metadata": {},
          "execution_count": 17
        }
      ]
    },
    {
      "cell_type": "code",
      "source": [
        "#19 разных самолетов\n",
        "planes.head()"
      ],
      "metadata": {
        "colab": {
          "base_uri": "https://localhost:8080/",
          "height": 206
        },
        "id": "1H5uwTgw5Put",
        "outputId": "54fcd327-f73e-480c-8d7f-fdd383f23c2f"
      },
      "execution_count": 16,
      "outputs": [
        {
          "output_type": "execute_result",
          "data": {
            "text/html": [
              "<div>\n",
              "<style scoped>\n",
              "    .dataframe tbody tr th:only-of-type {\n",
              "        vertical-align: middle;\n",
              "    }\n",
              "\n",
              "    .dataframe tbody tr th {\n",
              "        vertical-align: top;\n",
              "    }\n",
              "\n",
              "    .dataframe thead th {\n",
              "        text-align: right;\n",
              "    }\n",
              "</style>\n",
              "<table border=\"1\" class=\"dataframe\">\n",
              "  <thead>\n",
              "    <tr style=\"text-align: right;\">\n",
              "      <th></th>\n",
              "      <th>plane_id</th>\n",
              "      <th>capacity</th>\n",
              "      <th>cargo_flg</th>\n",
              "    </tr>\n",
              "  </thead>\n",
              "  <tbody>\n",
              "    <tr>\n",
              "      <th>0</th>\n",
              "      <td>747</td>\n",
              "      <td>20</td>\n",
              "      <td>1</td>\n",
              "    </tr>\n",
              "    <tr>\n",
              "      <th>1</th>\n",
              "      <td>737</td>\n",
              "      <td>25</td>\n",
              "      <td>1</td>\n",
              "    </tr>\n",
              "    <tr>\n",
              "      <th>2</th>\n",
              "      <td>727</td>\n",
              "      <td>35</td>\n",
              "      <td>1</td>\n",
              "    </tr>\n",
              "    <tr>\n",
              "      <th>3</th>\n",
              "      <td>777</td>\n",
              "      <td>30</td>\n",
              "      <td>1</td>\n",
              "    </tr>\n",
              "    <tr>\n",
              "      <th>4</th>\n",
              "      <td>320</td>\n",
              "      <td>20</td>\n",
              "      <td>1</td>\n",
              "    </tr>\n",
              "  </tbody>\n",
              "</table>\n",
              "</div>"
            ],
            "text/plain": [
              "   plane_id  capacity  cargo_flg\n",
              "0       747        20          1\n",
              "1       737        25          1\n",
              "2       727        35          1\n",
              "3       777        30          1\n",
              "4       320        20          1"
            ]
          },
          "metadata": {},
          "execution_count": 16
        }
      ]
    },
    {
      "cell_type": "code",
      "source": [
        "#и 122 пилота\n",
        "pilots.head()"
      ],
      "metadata": {
        "colab": {
          "base_uri": "https://localhost:8080/",
          "height": 206
        },
        "id": "clAmfOGo5RkP",
        "outputId": "6f90ee9f-e55f-403c-9eba-0a43efcaeba1"
      },
      "execution_count": 19,
      "outputs": [
        {
          "output_type": "execute_result",
          "data": {
            "text/html": [
              "<div>\n",
              "<style scoped>\n",
              "    .dataframe tbody tr th:only-of-type {\n",
              "        vertical-align: middle;\n",
              "    }\n",
              "\n",
              "    .dataframe tbody tr th {\n",
              "        vertical-align: top;\n",
              "    }\n",
              "\n",
              "    .dataframe thead th {\n",
              "        text-align: right;\n",
              "    }\n",
              "</style>\n",
              "<table border=\"1\" class=\"dataframe\">\n",
              "  <thead>\n",
              "    <tr style=\"text-align: right;\">\n",
              "      <th></th>\n",
              "      <th>pilot_id</th>\n",
              "      <th>name</th>\n",
              "      <th>age</th>\n",
              "      <th>rank</th>\n",
              "      <th>education_level</th>\n",
              "    </tr>\n",
              "  </thead>\n",
              "  <tbody>\n",
              "    <tr>\n",
              "      <th>0</th>\n",
              "      <td>1</td>\n",
              "      <td>Жуков Иван Матвеевич</td>\n",
              "      <td>43</td>\n",
              "      <td>1 category</td>\n",
              "      <td>1</td>\n",
              "    </tr>\n",
              "    <tr>\n",
              "      <th>1</th>\n",
              "      <td>2</td>\n",
              "      <td>Ермаков Герман Максимович</td>\n",
              "      <td>47</td>\n",
              "      <td>9 category</td>\n",
              "      <td>2</td>\n",
              "    </tr>\n",
              "    <tr>\n",
              "      <th>2</th>\n",
              "      <td>3</td>\n",
              "      <td>Кузнецов Тимофей Романович</td>\n",
              "      <td>47</td>\n",
              "      <td>10 category</td>\n",
              "      <td>4</td>\n",
              "    </tr>\n",
              "    <tr>\n",
              "      <th>3</th>\n",
              "      <td>4</td>\n",
              "      <td>Карасева Сафия Александровна</td>\n",
              "      <td>38</td>\n",
              "      <td>7 category</td>\n",
              "      <td>3</td>\n",
              "    </tr>\n",
              "    <tr>\n",
              "      <th>4</th>\n",
              "      <td>5</td>\n",
              "      <td>Молчанов Марк Вячеславович</td>\n",
              "      <td>24</td>\n",
              "      <td>1 category</td>\n",
              "      <td>3</td>\n",
              "    </tr>\n",
              "  </tbody>\n",
              "</table>\n",
              "</div>"
            ],
            "text/plain": [
              "   pilot_id                          name  age         rank  education_level\n",
              "0         1          Жуков Иван Матвеевич   43   1 category                1\n",
              "1         2     Ермаков Герман Максимович   47   9 category                2\n",
              "2         3    Кузнецов Тимофей Романович   47  10 category                4\n",
              "3         4  Карасева Сафия Александровна   38   7 category                3\n",
              "4         5    Молчанов Марк Вячеславович   24   1 category                3"
            ]
          },
          "metadata": {},
          "execution_count": 19
        }
      ]
    },
    {
      "cell_type": "code",
      "source": [
        "#Дата отображается неправильно\n",
        "flights.dtypes"
      ],
      "metadata": {
        "colab": {
          "base_uri": "https://localhost:8080/"
        },
        "id": "5tKsWVlkwO2x",
        "outputId": "51d3ff25-5f51-4729-efee-096c9162ad1f"
      },
      "execution_count": 20,
      "outputs": [
        {
          "output_type": "execute_result",
          "data": {
            "text/plain": [
              "flight_id           int64\n",
              "flight_dt          object\n",
              "plane_id            int64\n",
              "first_pilot_id      int64\n",
              "second_pilot_id     int64\n",
              "destination        object\n",
              "quantity            int64\n",
              "dtype: object"
            ]
          },
          "metadata": {},
          "execution_count": 20
        }
      ]
    },
    {
      "cell_type": "code",
      "source": [
        "#Поменяем тип даты на определенный формат\n",
        "flights['flight_dt'] = pd.to_datetime(flights['flight_dt'],format='%Y-%m-%d %H:%M:%S')"
      ],
      "metadata": {
        "id": "DTZ1s2JvwSKz"
      },
      "execution_count": 21,
      "outputs": []
    },
    {
      "cell_type": "code",
      "source": [
        "flights.dtypes"
      ],
      "metadata": {
        "colab": {
          "base_uri": "https://localhost:8080/"
        },
        "id": "J1NCx8nmwc5E",
        "outputId": "de194fa1-b1ea-4357-e3ba-c68c8099950e"
      },
      "execution_count": 22,
      "outputs": [
        {
          "output_type": "execute_result",
          "data": {
            "text/plain": [
              "flight_id                   int64\n",
              "flight_dt          datetime64[ns]\n",
              "plane_id                    int64\n",
              "first_pilot_id              int64\n",
              "second_pilot_id             int64\n",
              "destination                object\n",
              "quantity                    int64\n",
              "dtype: object"
            ]
          },
          "metadata": {},
          "execution_count": 22
        }
      ]
    },
    {
      "cell_type": "code",
      "source": [
        "flights.to_sql('flights',connect,index=False,if_exists='replace')\n",
        "planes.to_sql('planes',connect,index=False,if_exists='replace')\n",
        "pilots.to_sql('pilots',connect,index=False,if_exists='replace')"
      ],
      "metadata": {
        "id": "JdENCy9czG0v"
      },
      "execution_count": 50,
      "outputs": []
    },
    {
      "cell_type": "code",
      "source": [
        "def select(sql):\n",
        "  return pd.read_sql(sql,connect)"
      ],
      "metadata": {
        "id": "racjqNdy0Ijl"
      },
      "execution_count": 24,
      "outputs": []
    },
    {
      "cell_type": "code",
      "source": [
        "#создаем сводную таблицу, где каждый полет дублируется для каждого пилота (первого и второго) и параллельно присоединяем информацию о самолете\n",
        "cur = connect.cursor()\n",
        "sql = '''\n",
        "DROP TABLE IF EXISTS agg_table;\n",
        "\n",
        "CREATE TABLE agg_table AS\n",
        "SELECT f.flight_id,\n",
        "       f.flight_dt,\n",
        "       f.first_pilot_id,\n",
        "       f.second_pilot_id,\n",
        "       f.destination,\n",
        "       f.quantity,\n",
        "       p.pilot_id,\n",
        "       p.name,\n",
        "       p.age,\n",
        "       pl.plane_id,\n",
        "       pl.cargo_flg\n",
        "FROM flights AS f\n",
        "JOIN pilots AS p ON p.pilot_id = f.first_pilot_id\n",
        "OR p.pilot_id = f.second_pilot_id\n",
        "JOIN planes AS pl ON pl.plane_id = f.plane_id\n",
        "'''\n",
        "cur.executescript(sql)"
      ],
      "metadata": {
        "colab": {
          "base_uri": "https://localhost:8080/"
        },
        "id": "x-Ukmw7oHnrB",
        "outputId": "6d0f81b8-9902-4b0b-eb54-2c983a4de997"
      },
      "execution_count": 51,
      "outputs": [
        {
          "output_type": "execute_result",
          "data": {
            "text/plain": [
              "<pysqlite3.dbapi2.Cursor at 0x7f7025f27ce0>"
            ]
          },
          "metadata": {},
          "execution_count": 51
        }
      ]
    },
    {
      "cell_type": "markdown",
      "source": [
        "Задача 1. Напишите запрос, который выведет пилотов, которые в качестве второго пилота в\n",
        "августе этого года ездили в аэропорт Шереметьево. "
      ],
      "metadata": {
        "id": "1FyyepQ54E3Q"
      }
    },
    {
      "cell_type": "code",
      "source": [
        "sql = '''\n",
        "SELECT DISTINCT t.pilot_id,\n",
        "                t.name\n",
        "FROM agg_table AS t\n",
        "WHERE t.second_pilot_id = t.pilot_id\n",
        "  AND t.flight_dt BETWEEN '2021-08-01 00:00:00' AND '2021-08-31 23:59:59'\n",
        "  AND t.destination = 'Шереметьево'\n",
        "ORDER BY t.pilot_id\n",
        "'''\n",
        "select(sql)"
      ],
      "metadata": {
        "colab": {
          "base_uri": "https://localhost:8080/",
          "height": 676
        },
        "id": "0vItYo7_0Lh_",
        "outputId": "1c8d2dfc-69a5-4b91-9225-a5cbab597df0"
      },
      "execution_count": 34,
      "outputs": [
        {
          "output_type": "execute_result",
          "data": {
            "text/html": [
              "<div>\n",
              "<style scoped>\n",
              "    .dataframe tbody tr th:only-of-type {\n",
              "        vertical-align: middle;\n",
              "    }\n",
              "\n",
              "    .dataframe tbody tr th {\n",
              "        vertical-align: top;\n",
              "    }\n",
              "\n",
              "    .dataframe thead th {\n",
              "        text-align: right;\n",
              "    }\n",
              "</style>\n",
              "<table border=\"1\" class=\"dataframe\">\n",
              "  <thead>\n",
              "    <tr style=\"text-align: right;\">\n",
              "      <th></th>\n",
              "      <th>pilot_id</th>\n",
              "      <th>name</th>\n",
              "    </tr>\n",
              "  </thead>\n",
              "  <tbody>\n",
              "    <tr>\n",
              "      <th>0</th>\n",
              "      <td>1</td>\n",
              "      <td>Жуков Иван Матвеевич</td>\n",
              "    </tr>\n",
              "    <tr>\n",
              "      <th>1</th>\n",
              "      <td>13</td>\n",
              "      <td>Цветков Тимур Ярославович</td>\n",
              "    </tr>\n",
              "    <tr>\n",
              "      <th>2</th>\n",
              "      <td>16</td>\n",
              "      <td>Смирнов Павел Максимович</td>\n",
              "    </tr>\n",
              "    <tr>\n",
              "      <th>3</th>\n",
              "      <td>18</td>\n",
              "      <td>Овчинников Михаил Александрович</td>\n",
              "    </tr>\n",
              "    <tr>\n",
              "      <th>4</th>\n",
              "      <td>22</td>\n",
              "      <td>Афанасьев Артём Егорович</td>\n",
              "    </tr>\n",
              "    <tr>\n",
              "      <th>5</th>\n",
              "      <td>31</td>\n",
              "      <td>Пономарев Тимофей Максимович</td>\n",
              "    </tr>\n",
              "    <tr>\n",
              "      <th>6</th>\n",
              "      <td>32</td>\n",
              "      <td>Мартынов Александр Семёнович</td>\n",
              "    </tr>\n",
              "    <tr>\n",
              "      <th>7</th>\n",
              "      <td>38</td>\n",
              "      <td>Игнатьев Глеб Алексеевич</td>\n",
              "    </tr>\n",
              "    <tr>\n",
              "      <th>8</th>\n",
              "      <td>39</td>\n",
              "      <td>Соколов Михаил Максимович</td>\n",
              "    </tr>\n",
              "    <tr>\n",
              "      <th>9</th>\n",
              "      <td>41</td>\n",
              "      <td>Быков Александр Тимофеевич</td>\n",
              "    </tr>\n",
              "    <tr>\n",
              "      <th>10</th>\n",
              "      <td>44</td>\n",
              "      <td>Шевелева Татьяна Георгиевна</td>\n",
              "    </tr>\n",
              "    <tr>\n",
              "      <th>11</th>\n",
              "      <td>58</td>\n",
              "      <td>Родионов Елисей Егорович</td>\n",
              "    </tr>\n",
              "    <tr>\n",
              "      <th>12</th>\n",
              "      <td>60</td>\n",
              "      <td>Уваров Виктор Львович</td>\n",
              "    </tr>\n",
              "    <tr>\n",
              "      <th>13</th>\n",
              "      <td>67</td>\n",
              "      <td>Волков Василий Захарович</td>\n",
              "    </tr>\n",
              "    <tr>\n",
              "      <th>14</th>\n",
              "      <td>70</td>\n",
              "      <td>Скворцов Андрей Матвеевич</td>\n",
              "    </tr>\n",
              "    <tr>\n",
              "      <th>15</th>\n",
              "      <td>85</td>\n",
              "      <td>Жарова Есения Давидовна</td>\n",
              "    </tr>\n",
              "    <tr>\n",
              "      <th>16</th>\n",
              "      <td>112</td>\n",
              "      <td>Алексеев Иван Семёнович</td>\n",
              "    </tr>\n",
              "    <tr>\n",
              "      <th>17</th>\n",
              "      <td>113</td>\n",
              "      <td>Кудрявцев Илья Константинович</td>\n",
              "    </tr>\n",
              "    <tr>\n",
              "      <th>18</th>\n",
              "      <td>114</td>\n",
              "      <td>Алексеев Михаил Елисеевич</td>\n",
              "    </tr>\n",
              "    <tr>\n",
              "      <th>19</th>\n",
              "      <td>120</td>\n",
              "      <td>Королев Степан Артёмович</td>\n",
              "    </tr>\n",
              "  </tbody>\n",
              "</table>\n",
              "</div>"
            ],
            "text/plain": [
              "    pilot_id                             name\n",
              "0          1             Жуков Иван Матвеевич\n",
              "1         13        Цветков Тимур Ярославович\n",
              "2         16         Смирнов Павел Максимович\n",
              "3         18  Овчинников Михаил Александрович\n",
              "4         22         Афанасьев Артём Егорович\n",
              "5         31     Пономарев Тимофей Максимович\n",
              "6         32     Мартынов Александр Семёнович\n",
              "7         38         Игнатьев Глеб Алексеевич\n",
              "8         39        Соколов Михаил Максимович\n",
              "9         41       Быков Александр Тимофеевич\n",
              "10        44      Шевелева Татьяна Георгиевна\n",
              "11        58         Родионов Елисей Егорович\n",
              "12        60            Уваров Виктор Львович\n",
              "13        67         Волков Василий Захарович\n",
              "14        70        Скворцов Андрей Матвеевич\n",
              "15        85          Жарова Есения Давидовна\n",
              "16       112          Алексеев Иван Семёнович\n",
              "17       113    Кудрявцев Илья Константинович\n",
              "18       114        Алексеев Михаил Елисеевич\n",
              "19       120         Королев Степан Артёмович"
            ]
          },
          "metadata": {},
          "execution_count": 34
        }
      ]
    },
    {
      "cell_type": "markdown",
      "source": [
        "Задача 2. Выведите пилотов старше 45 лет, которые совершили больше 30 полетов на грузовых самолетах."
      ],
      "metadata": {
        "id": "4lNyeMgd9cn3"
      }
    },
    {
      "cell_type": "code",
      "source": [
        "sql = '''\n",
        "SELECT t.pilot_id,\n",
        "       t.name\n",
        "FROM agg_table AS t\n",
        "WHERE t.age > 45\n",
        "  AND t.cargo_flg = 1\n",
        "GROUP BY t.name,\n",
        "         t.pilot_id\n",
        "HAVING count(1) > 30\n",
        "ORDER BY t.pilot_id\n",
        "'''\n",
        "\n",
        "select(sql)"
      ],
      "metadata": {
        "colab": {
          "base_uri": "https://localhost:8080/",
          "height": 237
        },
        "id": "p_PX469h9e4I",
        "outputId": "c53dd867-82e3-4a91-cd05-6d2f1cedb510"
      },
      "execution_count": 52,
      "outputs": [
        {
          "output_type": "execute_result",
          "data": {
            "text/html": [
              "<div>\n",
              "<style scoped>\n",
              "    .dataframe tbody tr th:only-of-type {\n",
              "        vertical-align: middle;\n",
              "    }\n",
              "\n",
              "    .dataframe tbody tr th {\n",
              "        vertical-align: top;\n",
              "    }\n",
              "\n",
              "    .dataframe thead th {\n",
              "        text-align: right;\n",
              "    }\n",
              "</style>\n",
              "<table border=\"1\" class=\"dataframe\">\n",
              "  <thead>\n",
              "    <tr style=\"text-align: right;\">\n",
              "      <th></th>\n",
              "      <th>pilot_id</th>\n",
              "      <th>name</th>\n",
              "    </tr>\n",
              "  </thead>\n",
              "  <tbody>\n",
              "    <tr>\n",
              "      <th>0</th>\n",
              "      <td>2</td>\n",
              "      <td>Ермаков Герман Максимович</td>\n",
              "    </tr>\n",
              "    <tr>\n",
              "      <th>1</th>\n",
              "      <td>3</td>\n",
              "      <td>Кузнецов Тимофей Романович</td>\n",
              "    </tr>\n",
              "    <tr>\n",
              "      <th>2</th>\n",
              "      <td>9</td>\n",
              "      <td>Селиванов Константин Ильич</td>\n",
              "    </tr>\n",
              "    <tr>\n",
              "      <th>3</th>\n",
              "      <td>12</td>\n",
              "      <td>Клюева Василиса Степановна</td>\n",
              "    </tr>\n",
              "    <tr>\n",
              "      <th>4</th>\n",
              "      <td>32</td>\n",
              "      <td>Мартынов Александр Семёнович</td>\n",
              "    </tr>\n",
              "    <tr>\n",
              "      <th>5</th>\n",
              "      <td>66</td>\n",
              "      <td>Фомин Олег Дмитриевич</td>\n",
              "    </tr>\n",
              "  </tbody>\n",
              "</table>\n",
              "</div>"
            ],
            "text/plain": [
              "   pilot_id                          name\n",
              "0         2     Ермаков Герман Максимович\n",
              "1         3    Кузнецов Тимофей Романович\n",
              "2         9    Селиванов Константин Ильич\n",
              "3        12    Клюева Василиса Степановна\n",
              "4        32  Мартынов Александр Семёнович\n",
              "5        66         Фомин Олег Дмитриевич"
            ]
          },
          "metadata": {},
          "execution_count": 52
        }
      ]
    },
    {
      "cell_type": "markdown",
      "source": [
        "Задача 3. Выведите ТОП 10 пилотов-капитанов (first_pilot_id), которые перевезли наибольшее\n",
        "число пассажиров в этом году."
      ],
      "metadata": {
        "id": "4P0lH0ncK25b"
      }
    },
    {
      "cell_type": "code",
      "source": [
        "sql = '''\n",
        "WITH sum_table AS\n",
        "  (SELECT t.pilot_id,\n",
        "          t.name,\n",
        "          sum(t.quantity) AS quantity\n",
        "   FROM agg_table AS t\n",
        "   WHERE t.first_pilot_id = t.pilot_id\n",
        "     AND t.cargo_flg = 0\n",
        "     AND t.flight_dt BETWEEN '2021-01-01 00:00:00' AND '2021-12-31 23:59:59'\n",
        "   GROUP BY t.pilot_id),\n",
        "\n",
        "     rankings AS\n",
        "  (SELECT s.*,\n",
        "          row_number() OVER (ORDER BY s.quantity DESC) AS rnk\n",
        "   FROM sum_table AS s)\n",
        "   \n",
        "SELECT r.pilot_id,\n",
        "       r.name,\n",
        "       r.quantity\n",
        "FROM rankings AS r\n",
        "WHERE r.rnk <=10\n",
        "'''\n",
        "select(sql)"
      ],
      "metadata": {
        "colab": {
          "base_uri": "https://localhost:8080/",
          "height": 363
        },
        "id": "U8QhBm52Ib6i",
        "outputId": "9daf3453-83c0-4c67-ed33-4c63a588ee95"
      },
      "execution_count": 48,
      "outputs": [
        {
          "output_type": "execute_result",
          "data": {
            "text/html": [
              "<div>\n",
              "<style scoped>\n",
              "    .dataframe tbody tr th:only-of-type {\n",
              "        vertical-align: middle;\n",
              "    }\n",
              "\n",
              "    .dataframe tbody tr th {\n",
              "        vertical-align: top;\n",
              "    }\n",
              "\n",
              "    .dataframe thead th {\n",
              "        text-align: right;\n",
              "    }\n",
              "</style>\n",
              "<table border=\"1\" class=\"dataframe\">\n",
              "  <thead>\n",
              "    <tr style=\"text-align: right;\">\n",
              "      <th></th>\n",
              "      <th>pilot_id</th>\n",
              "      <th>name</th>\n",
              "      <th>quantity</th>\n",
              "    </tr>\n",
              "  </thead>\n",
              "  <tbody>\n",
              "    <tr>\n",
              "      <th>0</th>\n",
              "      <td>96</td>\n",
              "      <td>Никонов Иван Матвеевич</td>\n",
              "      <td>1619</td>\n",
              "    </tr>\n",
              "    <tr>\n",
              "      <th>1</th>\n",
              "      <td>103</td>\n",
              "      <td>Голованова Александра Михайловна</td>\n",
              "      <td>1525</td>\n",
              "    </tr>\n",
              "    <tr>\n",
              "      <th>2</th>\n",
              "      <td>97</td>\n",
              "      <td>Агеев Илья Фёдорович</td>\n",
              "      <td>950</td>\n",
              "    </tr>\n",
              "    <tr>\n",
              "      <th>3</th>\n",
              "      <td>89</td>\n",
              "      <td>Колосов Дмитрий Глебович</td>\n",
              "      <td>929</td>\n",
              "    </tr>\n",
              "    <tr>\n",
              "      <th>4</th>\n",
              "      <td>50</td>\n",
              "      <td>Суворов Матвей Миронович</td>\n",
              "      <td>918</td>\n",
              "    </tr>\n",
              "    <tr>\n",
              "      <th>5</th>\n",
              "      <td>82</td>\n",
              "      <td>Горохов Макар Алексеевич</td>\n",
              "      <td>856</td>\n",
              "    </tr>\n",
              "    <tr>\n",
              "      <th>6</th>\n",
              "      <td>32</td>\n",
              "      <td>Мартынов Александр Семёнович</td>\n",
              "      <td>843</td>\n",
              "    </tr>\n",
              "    <tr>\n",
              "      <th>7</th>\n",
              "      <td>11</td>\n",
              "      <td>Ушаков Даниил Даниилович</td>\n",
              "      <td>826</td>\n",
              "    </tr>\n",
              "    <tr>\n",
              "      <th>8</th>\n",
              "      <td>17</td>\n",
              "      <td>Щукина Маргарита Кирилловна</td>\n",
              "      <td>807</td>\n",
              "    </tr>\n",
              "    <tr>\n",
              "      <th>9</th>\n",
              "      <td>99</td>\n",
              "      <td>Иванова Анна Тимуровна</td>\n",
              "      <td>803</td>\n",
              "    </tr>\n",
              "  </tbody>\n",
              "</table>\n",
              "</div>"
            ],
            "text/plain": [
              "   pilot_id                              name  quantity\n",
              "0        96            Никонов Иван Матвеевич      1619\n",
              "1       103  Голованова Александра Михайловна      1525\n",
              "2        97              Агеев Илья Фёдорович       950\n",
              "3        89          Колосов Дмитрий Глебович       929\n",
              "4        50          Суворов Матвей Миронович       918\n",
              "5        82          Горохов Макар Алексеевич       856\n",
              "6        32      Мартынов Александр Семёнович       843\n",
              "7        11          Ушаков Даниил Даниилович       826\n",
              "8        17       Щукина Маргарита Кирилловна       807\n",
              "9        99            Иванова Анна Тимуровна       803"
            ]
          },
          "metadata": {},
          "execution_count": 48
        }
      ]
    }
  ]
}